{
  "nbformat": 4,
  "nbformat_minor": 0,
  "metadata": {
    "colab": {
      "name": "imageclass.ipynb",
      "provenance": [],
      "collapsed_sections": [
        "OPKdBvXvZ_Uz",
        "n5CRb1wg-9oY",
        "7FKvoK_jAxpS",
        "_r_sDjytBJdu",
        "HlsYXEKrE6PZ",
        "UT9-Z72kQQMx",
        "dhHbzN84s_j3",
        "u8-37eOrtLbA"
      ],
      "toc_visible": true
    },
    "kernelspec": {
      "name": "python3",
      "display_name": "Python 3"
    },
    "accelerator": "TPU"
  },
  "cells": [
    {
      "cell_type": "markdown",
      "metadata": {
        "id": "OPKdBvXvZ_Uz",
        "colab_type": "text"
      },
      "source": [
        "# Problem Tanımı ve Amaçlar\n",
        "* Keras kullanarak görüntü sınıflandırma\n",
        "## Amaç\n",
        "* Keras kullanımı ve CNN yapısını anlamak\n",
        "\n",
        "![alt text](https://cezannec.github.io/assets/cnn_intro/CNN_ex.png)"
      ]
    },
    {
      "cell_type": "code",
      "metadata": {
        "id": "LIGM2Vo25ipT",
        "colab_type": "code",
        "colab": {}
      },
      "source": [
        "pip install keras"
      ],
      "execution_count": 0,
      "outputs": []
    },
    {
      "cell_type": "markdown",
      "metadata": {
        "id": "z2tcGH2s_biS",
        "colab_type": "text"
      },
      "source": [
        "# Veriyi Çalışmaya Dahil Etmek "
      ]
    },
    {
      "cell_type": "code",
      "metadata": {
        "id": "U-6zDBrg5ir1",
        "colab_type": "code",
        "outputId": "bf798ad1-eb7c-408f-c211-65833229acfc",
        "colab": {
          "base_uri": "https://localhost:8080/",
          "height": 50
        }
      },
      "source": [
        "from keras.datasets import cifar10\n",
        "(x_train,y_train),(x_test,y_test) = cifar10.load_data()"
      ],
      "execution_count": 0,
      "outputs": [
        {
          "output_type": "stream",
          "text": [
            "Downloading data from https://www.cs.toronto.edu/~kriz/cifar-10-python.tar.gz\n",
            "170500096/170498071 [==============================] - 2s 0us/step\n"
          ],
          "name": "stdout"
        }
      ]
    },
    {
      "cell_type": "code",
      "metadata": {
        "id": "u4yIRKO85iuM",
        "colab_type": "code",
        "outputId": "ddcadccf-2739-40d8-d887-f6160c524a18",
        "colab": {
          "base_uri": "https://localhost:8080/",
          "height": 66
        }
      },
      "source": [
        "print(type(x_train))\n",
        "print(x_train.shape)"
      ],
      "execution_count": 0,
      "outputs": [
        {
          "output_type": "stream",
          "text": [
            "<class 'numpy.ndarray'>\n",
            "(50000, 32, 32, 3)\n",
            "ERROR! Session/line number was not unique in database. History logging moved to new session 59\n"
          ],
          "name": "stdout"
        }
      ]
    },
    {
      "cell_type": "markdown",
      "metadata": {
        "id": "RzBU6qRj_ViM",
        "colab_type": "text"
      },
      "source": [
        "# Veriyi Tanıma"
      ]
    },
    {
      "cell_type": "code",
      "metadata": {
        "id": "C92IYuZU5i18",
        "colab_type": "code",
        "outputId": "c48f6eaa-146c-4242-9d05-b067bae2dbdb",
        "colab": {
          "base_uri": "https://localhost:8080/",
          "height": 282
        }
      },
      "source": [
        "# explore data\n",
        "datanum=1000\n",
        "import matplotlib.pyplot as plt\n",
        "img=plt.imshow(x_train[datanum])\n",
        "# See label\n",
        "print(\"Label:\",y_train[datanum])"
      ],
      "execution_count": 0,
      "outputs": [
        {
          "output_type": "stream",
          "text": [
            "Label: [9]\n"
          ],
          "name": "stdout"
        },
        {
          "output_type": "display_data",
          "data": {
            "image/png": "[encoded data removed]",
            "text/plain": [
              "<Figure size 432x288 with 1 Axes>"
            ]
          },
          "metadata": {
            "tags": []
          }
        }
      ]
    },
    {
      "cell_type": "markdown",
      "metadata": {
        "id": "n5CRb1wg-9oY",
        "colab_type": "text"
      },
      "source": [
        "# One Hot Encoding\n",
        "Verimizin katogorik sınflarını nümerik sınıflara çevirmek için OHE işlemi  yapılır."
      ]
    },
    {
      "cell_type": "code",
      "metadata": {
        "id": "cLsayqxh-Ojb",
        "colab_type": "code",
        "outputId": "6ca404a4-1ae8-48fa-9d57-df2d075fdc19",
        "colab": {
          "base_uri": "https://localhost:8080/",
          "height": 131
        }
      },
      "source": [
        "from keras.utils import to_categorical\n",
        "\n",
        "y_train_ohe=to_categorical(y_train)\n",
        "y_test_ohe=to_categorical(y_test)\n",
        "# Ohe işleminden sonra y_train\n",
        "print(y_train_ohe)\n"
      ],
      "execution_count": 0,
      "outputs": [
        {
          "output_type": "stream",
          "text": [
            "[[0. 0. 0. ... 0. 0. 0.]\n",
            " [0. 0. 0. ... 0. 0. 1.]\n",
            " [0. 0. 0. ... 0. 0. 1.]\n",
            " ...\n",
            " [0. 0. 0. ... 0. 0. 1.]\n",
            " [0. 1. 0. ... 0. 0. 0.]\n",
            " [0. 1. 0. ... 0. 0. 0.]]\n"
          ],
          "name": "stdout"
        }
      ]
    },
    {
      "cell_type": "code",
      "metadata": {
        "id": "EreK40hU_6Zl",
        "colab_type": "code",
        "outputId": "a5aeb101-62ca-4f6d-f2bb-e66244613edc",
        "colab": {
          "base_uri": "https://localhost:8080/",
          "height": 33
        }
      },
      "source": [
        "print(\"OHE sınıfı:\",y_train_ohe[datanum])"
      ],
      "execution_count": 0,
      "outputs": [
        {
          "output_type": "stream",
          "text": [
            "OHE sınıfı: [0. 0. 0. 0. 0. 0. 0. 0. 0. 1.]\n"
          ],
          "name": "stdout"
        }
      ]
    },
    {
      "cell_type": "markdown",
      "metadata": {
        "id": "7FKvoK_jAxpS",
        "colab_type": "text"
      },
      "source": [
        "# Görüntü Piksellerini Normalize Etmek"
      ]
    },
    {
      "cell_type": "code",
      "metadata": {
        "id": "lBt41KL0AmBc",
        "colab_type": "code",
        "colab": {}
      },
      "source": [
        "x_train=x_train/255\n",
        "x_test=x_test/255"
      ],
      "execution_count": 0,
      "outputs": []
    },
    {
      "cell_type": "markdown",
      "metadata": {
        "id": "_r_sDjytBJdu",
        "colab_type": "text"
      },
      "source": [
        "# CNN Katmanı Oluşturarak Model Oluşturma"
      ]
    },
    {
      "cell_type": "code",
      "metadata": {
        "id": "EMispzx-BIAI",
        "colab_type": "code",
        "colab": {}
      },
      "source": [
        "from keras.models import Sequential\n",
        "from keras.layers import Dense,Flatten,Conv2D,MaxPool2D"
      ],
      "execution_count": 0,
      "outputs": []
    },
    {
      "cell_type": "code",
      "metadata": {
        "id": "GZOpEmSUBbQn",
        "colab_type": "code",
        "colab": {}
      },
      "source": [
        "# Model tanımlanır\n",
        "model=Sequential()\n",
        "#CNN ve pooling katmanları eklenir\n",
        "model.add(Conv2D(32,(5,5),activation='relu',input_shape=(32,32,3)))\n",
        "model.add(MaxPool2D(pool_size=(2,2)))\n",
        "\n",
        "model.add(Conv2D(32,(5,5),activation='relu'))\n",
        "\n",
        "model.add(Conv2D(32,(5,5),activation='relu'))\n",
        "model.add(MaxPool2D(pool_size=(2,2)))\n",
        "#Flatten katmanı eklenir\n",
        "model.add(Flatten( ))\n",
        "model.add(Dense(1000,activation='relu') )\n",
        "model.add(Dense(10,activation='softmax') )# 10 tane etiket olduğu için 10 tane sinir node uluşturuldu."
      ],
      "execution_count": 0,
      "outputs": []
    },
    {
      "cell_type": "code",
      "metadata": {
        "id": "227zkOeTBqLX",
        "colab_type": "code",
        "colab": {}
      },
      "source": [
        "# Model compile\n",
        "model.compile(loss='categorical_crossentropy',optimizer='adam',metrics=['accuracy'])"
      ],
      "execution_count": 0,
      "outputs": []
    },
    {
      "cell_type": "markdown",
      "metadata": {
        "id": "HlsYXEKrE6PZ",
        "colab_type": "text"
      },
      "source": [
        "# Modelin Eğitimi\n",
        "* Modelin eğitimi sırasında validation_split parametresi ile veri kümesini ayrıma işlemi yapıldı."
      ]
    },
    {
      "cell_type": "code",
      "metadata": {
        "id": "lQD1--_pE4co",
        "colab_type": "code",
        "outputId": "459e2961-8be0-4c0f-a2db-bfc04651bfdf",
        "colab": {
          "base_uri": "https://localhost:8080/",
          "height": 1000
        }
      },
      "source": [
        "learnedmodel=model.fit(x_train,y_train_ohe,batch_size=256,epochs=150,validation_split=0.3)"
      ],
      "execution_count": 0,
      "outputs": [
        {
          "output_type": "stream",
          "text": [
            "Train on 35000 samples, validate on 15000 samples\n",
            "Epoch 1/150\n",
            "35000/35000 [==============================] - 51s 1ms/step - loss: 0.0737 - acc: 0.9742 - val_loss: 2.4435 - val_acc: 0.6511\n",
            "Epoch 2/150\n",
            "35000/35000 [==============================] - 51s 1ms/step - loss: 0.0483 - acc: 0.9843 - val_loss: 2.4601 - val_acc: 0.6559\n",
            "Epoch 3/150\n",
            "35000/35000 [==============================] - 51s 1ms/step - loss: 0.0263 - acc: 0.9919 - val_loss: 2.4563 - val_acc: 0.6574\n",
            "Epoch 4/150\n",
            "35000/35000 [==============================] - 51s 1ms/step - loss: 0.0614 - acc: 0.9793 - val_loss: 2.4754 - val_acc: 0.6557\n",
            "Epoch 5/150\n",
            "35000/35000 [==============================] - 51s 1ms/step - loss: 0.0663 - acc: 0.9774 - val_loss: 2.5490 - val_acc: 0.6417\n",
            "Epoch 6/150\n",
            "35000/35000 [==============================] - 51s 1ms/step - loss: 0.1161 - acc: 0.9605 - val_loss: 2.4476 - val_acc: 0.6440\n",
            "Epoch 7/150\n",
            "35000/35000 [==============================] - 51s 1ms/step - loss: 0.0686 - acc: 0.9767 - val_loss: 2.4803 - val_acc: 0.6522\n",
            "Epoch 8/150\n",
            "35000/35000 [==============================] - 51s 1ms/step - loss: 0.0492 - acc: 0.9840 - val_loss: 2.5134 - val_acc: 0.6582\n",
            "Epoch 9/150\n",
            "35000/35000 [==============================] - 52s 1ms/step - loss: 0.0411 - acc: 0.9857 - val_loss: 2.6532 - val_acc: 0.6450\n",
            "Epoch 10/150\n",
            "35000/35000 [==============================] - 51s 1ms/step - loss: 0.0610 - acc: 0.9791 - val_loss: 2.5904 - val_acc: 0.6466\n",
            "Epoch 11/150\n",
            "35000/35000 [==============================] - 51s 1ms/step - loss: 0.0708 - acc: 0.9750 - val_loss: 2.6255 - val_acc: 0.6517\n",
            "Epoch 12/150\n",
            "35000/35000 [==============================] - 51s 1ms/step - loss: 0.0508 - acc: 0.9823 - val_loss: 2.7026 - val_acc: 0.6526\n",
            "Epoch 13/150\n",
            "35000/35000 [==============================] - 50s 1ms/step - loss: 0.0456 - acc: 0.9839 - val_loss: 2.6445 - val_acc: 0.6556\n",
            "Epoch 14/150\n",
            "35000/35000 [==============================] - 51s 1ms/step - loss: 0.0258 - acc: 0.9914 - val_loss: 2.7141 - val_acc: 0.6545\n",
            "Epoch 15/150\n",
            "35000/35000 [==============================] - 50s 1ms/step - loss: 0.0928 - acc: 0.9701 - val_loss: 2.7952 - val_acc: 0.6353\n",
            "Epoch 16/150\n",
            "35000/35000 [==============================] - 50s 1ms/step - loss: 0.1082 - acc: 0.9647 - val_loss: 2.7005 - val_acc: 0.6447\n",
            "Epoch 17/150\n",
            "35000/35000 [==============================] - 50s 1ms/step - loss: 0.0783 - acc: 0.9744 - val_loss: 2.7898 - val_acc: 0.6399\n",
            "Epoch 18/150\n",
            "35000/35000 [==============================] - 50s 1ms/step - loss: 0.0522 - acc: 0.9827 - val_loss: 2.7463 - val_acc: 0.6515\n",
            "Epoch 19/150\n",
            "35000/35000 [==============================] - 50s 1ms/step - loss: 0.0522 - acc: 0.9826 - val_loss: 2.7695 - val_acc: 0.6493\n",
            "Epoch 20/150\n",
            "35000/35000 [==============================] - 50s 1ms/step - loss: 0.0552 - acc: 0.9811 - val_loss: 2.7871 - val_acc: 0.6513\n",
            "Epoch 21/150\n",
            "35000/35000 [==============================] - 51s 1ms/step - loss: 0.0283 - acc: 0.9909 - val_loss: 2.8285 - val_acc: 0.6521\n",
            "Epoch 22/150\n",
            "35000/35000 [==============================] - 50s 1ms/step - loss: 0.0195 - acc: 0.9945 - val_loss: 2.8179 - val_acc: 0.6599\n",
            "Epoch 23/150\n",
            "35000/35000 [==============================] - 50s 1ms/step - loss: 0.0532 - acc: 0.9833 - val_loss: 2.9612 - val_acc: 0.6389\n",
            "Epoch 24/150\n",
            "35000/35000 [==============================] - 50s 1ms/step - loss: 0.0709 - acc: 0.9766 - val_loss: 2.9662 - val_acc: 0.6330\n",
            "Epoch 25/150\n",
            "35000/35000 [==============================] - 49s 1ms/step - loss: 0.0926 - acc: 0.9695 - val_loss: 2.9125 - val_acc: 0.6469\n",
            "Epoch 26/150\n",
            "35000/35000 [==============================] - 50s 1ms/step - loss: 0.0978 - acc: 0.9694 - val_loss: 2.7909 - val_acc: 0.6464\n",
            "Epoch 27/150\n",
            "35000/35000 [==============================] - 53s 2ms/step - loss: 0.0371 - acc: 0.9875 - val_loss: 2.8949 - val_acc: 0.6486\n",
            "Epoch 28/150\n",
            "35000/35000 [==============================] - 50s 1ms/step - loss: 0.0331 - acc: 0.9887 - val_loss: 2.8909 - val_acc: 0.6524\n",
            "Epoch 29/150\n",
            "35000/35000 [==============================] - 50s 1ms/step - loss: 0.0224 - acc: 0.9922 - val_loss: 2.9217 - val_acc: 0.6585\n",
            "Epoch 30/150\n",
            "35000/35000 [==============================] - 50s 1ms/step - loss: 0.0346 - acc: 0.9886 - val_loss: 2.9768 - val_acc: 0.6429\n",
            "Epoch 31/150\n",
            "35000/35000 [==============================] - 50s 1ms/step - loss: 0.0763 - acc: 0.9752 - val_loss: 2.8933 - val_acc: 0.6496\n",
            "Epoch 32/150\n",
            "35000/35000 [==============================] - 50s 1ms/step - loss: 0.1020 - acc: 0.9678 - val_loss: 2.9664 - val_acc: 0.6383\n",
            "Epoch 33/150\n",
            "35000/35000 [==============================] - 50s 1ms/step - loss: 0.0651 - acc: 0.9787 - val_loss: 3.0326 - val_acc: 0.6423\n",
            "Epoch 34/150\n",
            "35000/35000 [==============================] - 50s 1ms/step - loss: 0.0526 - acc: 0.9821 - val_loss: 2.9066 - val_acc: 0.6527\n",
            "Epoch 35/150\n",
            "35000/35000 [==============================] - 50s 1ms/step - loss: 0.0310 - acc: 0.9898 - val_loss: 2.9815 - val_acc: 0.6465\n",
            "Epoch 36/150\n",
            "35000/35000 [==============================] - 49s 1ms/step - loss: 0.0277 - acc: 0.9903 - val_loss: 2.9817 - val_acc: 0.6513\n",
            "Epoch 37/150\n",
            "35000/35000 [==============================] - 49s 1ms/step - loss: 0.0339 - acc: 0.9888 - val_loss: 2.9795 - val_acc: 0.6503\n",
            "Epoch 38/150\n",
            "35000/35000 [==============================] - 49s 1ms/step - loss: 0.0728 - acc: 0.9764 - val_loss: 2.9638 - val_acc: 0.6386\n",
            "Epoch 39/150\n",
            "35000/35000 [==============================] - 50s 1ms/step - loss: 0.0612 - acc: 0.9800 - val_loss: 2.9915 - val_acc: 0.6389\n",
            "Epoch 40/150\n",
            "35000/35000 [==============================] - 49s 1ms/step - loss: 0.0723 - acc: 0.9768 - val_loss: 3.0458 - val_acc: 0.6377\n",
            "Epoch 41/150\n",
            "35000/35000 [==============================] - 49s 1ms/step - loss: 0.0642 - acc: 0.9798 - val_loss: 2.9937 - val_acc: 0.6471\n",
            "Epoch 42/150\n",
            "35000/35000 [==============================] - 50s 1ms/step - loss: 0.0463 - acc: 0.9843 - val_loss: 2.9613 - val_acc: 0.6485\n",
            "Epoch 43/150\n",
            "35000/35000 [==============================] - 50s 1ms/step - loss: 0.0450 - acc: 0.9860 - val_loss: 3.0802 - val_acc: 0.6396\n",
            "Epoch 44/150\n",
            "35000/35000 [==============================] - 49s 1ms/step - loss: 0.0598 - acc: 0.9807 - val_loss: 3.0939 - val_acc: 0.6435\n",
            "Epoch 45/150\n",
            "35000/35000 [==============================] - 50s 1ms/step - loss: 0.0385 - acc: 0.9870 - val_loss: 3.1130 - val_acc: 0.6451\n",
            "Epoch 46/150\n",
            "35000/35000 [==============================] - 50s 1ms/step - loss: 0.0685 - acc: 0.9777 - val_loss: 3.0272 - val_acc: 0.6447\n",
            "Epoch 47/150\n",
            "35000/35000 [==============================] - 49s 1ms/step - loss: 0.0675 - acc: 0.9790 - val_loss: 3.0756 - val_acc: 0.6407\n",
            "Epoch 48/150\n",
            "35000/35000 [==============================] - 49s 1ms/step - loss: 0.0311 - acc: 0.9893 - val_loss: 3.1664 - val_acc: 0.6392\n",
            "Epoch 49/150\n",
            "35000/35000 [==============================] - 49s 1ms/step - loss: 0.0455 - acc: 0.9857 - val_loss: 3.1860 - val_acc: 0.6443\n",
            "Epoch 50/150\n",
            "35000/35000 [==============================] - 49s 1ms/step - loss: 0.0309 - acc: 0.9894 - val_loss: 3.1916 - val_acc: 0.6455\n",
            "Epoch 51/150\n",
            "35000/35000 [==============================] - 49s 1ms/step - loss: 0.0303 - acc: 0.9902 - val_loss: 3.3016 - val_acc: 0.6458\n",
            "Epoch 52/150\n",
            "35000/35000 [==============================] - 50s 1ms/step - loss: 0.0796 - acc: 0.9756 - val_loss: 3.1025 - val_acc: 0.6421\n",
            "Epoch 53/150\n",
            "35000/35000 [==============================] - 49s 1ms/step - loss: 0.0515 - acc: 0.9843 - val_loss: 3.1911 - val_acc: 0.6423\n",
            "Epoch 54/150\n",
            "35000/35000 [==============================] - 50s 1ms/step - loss: 0.0556 - acc: 0.9817 - val_loss: 3.1724 - val_acc: 0.6428\n",
            "Epoch 55/150\n",
            "35000/35000 [==============================] - 52s 1ms/step - loss: 0.0316 - acc: 0.9890 - val_loss: 3.2495 - val_acc: 0.6486\n",
            "Epoch 56/150\n",
            "35000/35000 [==============================] - 50s 1ms/step - loss: 0.0560 - acc: 0.9814 - val_loss: 3.0671 - val_acc: 0.6493\n",
            "Epoch 57/150\n",
            "35000/35000 [==============================] - 50s 1ms/step - loss: 0.0322 - acc: 0.9897 - val_loss: 3.3327 - val_acc: 0.6410\n",
            "Epoch 58/150\n",
            "35000/35000 [==============================] - 50s 1ms/step - loss: 0.0541 - acc: 0.9819 - val_loss: 3.2572 - val_acc: 0.6415\n",
            "Epoch 59/150\n",
            "35000/35000 [==============================] - 50s 1ms/step - loss: 0.0578 - acc: 0.9823 - val_loss: 3.1878 - val_acc: 0.6407\n",
            "Epoch 60/150\n",
            "35000/35000 [==============================] - 50s 1ms/step - loss: 0.0258 - acc: 0.9919 - val_loss: 3.2389 - val_acc: 0.6471\n",
            "Epoch 61/150\n",
            "35000/35000 [==============================] - 49s 1ms/step - loss: 0.0425 - acc: 0.9868 - val_loss: 3.2599 - val_acc: 0.6462\n",
            "Epoch 62/150\n",
            "35000/35000 [==============================] - 49s 1ms/step - loss: 0.0696 - acc: 0.9791 - val_loss: 3.2485 - val_acc: 0.6383\n",
            "Epoch 63/150\n",
            "35000/35000 [==============================] - 49s 1ms/step - loss: 0.0452 - acc: 0.9861 - val_loss: 3.3195 - val_acc: 0.6404\n",
            "Epoch 64/150\n",
            "35000/35000 [==============================] - 52s 1ms/step - loss: 0.0482 - acc: 0.9849 - val_loss: 3.2619 - val_acc: 0.6429\n",
            "Epoch 65/150\n",
            "35000/35000 [==============================] - 52s 1ms/step - loss: 0.0445 - acc: 0.9863 - val_loss: 3.3629 - val_acc: 0.6361\n",
            "Epoch 66/150\n",
            "35000/35000 [==============================] - 52s 1ms/step - loss: 0.0539 - acc: 0.9833 - val_loss: 3.4402 - val_acc: 0.6428\n",
            "Epoch 67/150\n",
            "35000/35000 [==============================] - 51s 1ms/step - loss: 0.0603 - acc: 0.9816 - val_loss: 3.4356 - val_acc: 0.6287\n",
            "Epoch 68/150\n",
            "35000/35000 [==============================] - 50s 1ms/step - loss: 0.0470 - acc: 0.9846 - val_loss: 3.3415 - val_acc: 0.6369\n",
            "Epoch 69/150\n",
            "35000/35000 [==============================] - 50s 1ms/step - loss: 0.0537 - acc: 0.9832 - val_loss: 3.3095 - val_acc: 0.6458\n",
            "Epoch 70/150\n",
            "35000/35000 [==============================] - 49s 1ms/step - loss: 0.0637 - acc: 0.9807 - val_loss: 3.3946 - val_acc: 0.6356\n",
            "Epoch 71/150\n",
            "35000/35000 [==============================] - 50s 1ms/step - loss: 0.0362 - acc: 0.9878 - val_loss: 3.2487 - val_acc: 0.6514\n",
            "Epoch 72/150\n",
            "35000/35000 [==============================] - 49s 1ms/step - loss: 0.0267 - acc: 0.9915 - val_loss: 3.3446 - val_acc: 0.6449\n",
            "Epoch 73/150\n",
            "35000/35000 [==============================] - 49s 1ms/step - loss: 0.0364 - acc: 0.9884 - val_loss: 3.4408 - val_acc: 0.6356\n",
            "Epoch 74/150\n",
            "35000/35000 [==============================] - 49s 1ms/step - loss: 0.0403 - acc: 0.9877 - val_loss: 3.5069 - val_acc: 0.6339\n",
            "Epoch 75/150\n",
            "35000/35000 [==============================] - 49s 1ms/step - loss: 0.0624 - acc: 0.9817 - val_loss: 3.3354 - val_acc: 0.6371\n",
            "Epoch 76/150\n",
            "35000/35000 [==============================] - 49s 1ms/step - loss: 0.0470 - acc: 0.9860 - val_loss: 3.7127 - val_acc: 0.6136\n",
            "Epoch 77/150\n",
            "35000/35000 [==============================] - 50s 1ms/step - loss: 0.0632 - acc: 0.9810 - val_loss: 3.3631 - val_acc: 0.6445\n",
            "Epoch 78/150\n",
            "35000/35000 [==============================] - 51s 1ms/step - loss: 0.0537 - acc: 0.9837 - val_loss: 3.4866 - val_acc: 0.6395\n",
            "Epoch 79/150\n",
            "35000/35000 [==============================] - 51s 1ms/step - loss: 0.0351 - acc: 0.9893 - val_loss: 3.4605 - val_acc: 0.6398\n",
            "Epoch 80/150\n",
            "35000/35000 [==============================] - 51s 1ms/step - loss: 0.0348 - acc: 0.9898 - val_loss: 3.4234 - val_acc: 0.6419\n",
            "Epoch 81/150\n",
            "35000/35000 [==============================] - 51s 1ms/step - loss: 0.0274 - acc: 0.9914 - val_loss: 3.4725 - val_acc: 0.6417\n",
            "Epoch 82/150\n",
            "35000/35000 [==============================] - 52s 1ms/step - loss: 0.0289 - acc: 0.9913 - val_loss: 3.4540 - val_acc: 0.6449\n",
            "Epoch 83/150\n",
            "35000/35000 [==============================] - 51s 1ms/step - loss: 0.0222 - acc: 0.9937 - val_loss: 3.5594 - val_acc: 0.6396\n",
            "Epoch 84/150\n",
            "35000/35000 [==============================] - 52s 1ms/step - loss: 0.0478 - acc: 0.9858 - val_loss: 3.5768 - val_acc: 0.6369\n",
            "Epoch 85/150\n",
            "35000/35000 [==============================] - 54s 2ms/step - loss: 0.0813 - acc: 0.9767 - val_loss: 3.3939 - val_acc: 0.6393\n",
            "Epoch 86/150\n",
            "35000/35000 [==============================] - 53s 2ms/step - loss: 0.0782 - acc: 0.9767 - val_loss: 3.5181 - val_acc: 0.6325\n",
            "Epoch 87/150\n",
            "35000/35000 [==============================] - 53s 2ms/step - loss: 0.0408 - acc: 0.9868 - val_loss: 3.4069 - val_acc: 0.6458\n",
            "Epoch 88/150\n",
            "35000/35000 [==============================] - 53s 2ms/step - loss: 0.0218 - acc: 0.9934 - val_loss: 3.4960 - val_acc: 0.6435\n",
            "Epoch 89/150\n",
            "35000/35000 [==============================] - 54s 2ms/step - loss: 0.0202 - acc: 0.9931 - val_loss: 3.5027 - val_acc: 0.6446\n",
            "Epoch 90/150\n",
            "35000/35000 [==============================] - 54s 2ms/step - loss: 0.0349 - acc: 0.9889 - val_loss: 3.4801 - val_acc: 0.6434\n",
            "Epoch 91/150\n",
            "35000/35000 [==============================] - 54s 2ms/step - loss: 0.0774 - acc: 0.9778 - val_loss: 3.5991 - val_acc: 0.6300\n",
            "Epoch 92/150\n",
            "35000/35000 [==============================] - 54s 2ms/step - loss: 0.0393 - acc: 0.9875 - val_loss: 3.4757 - val_acc: 0.6408\n",
            "Epoch 93/150\n",
            "35000/35000 [==============================] - 54s 2ms/step - loss: 0.0334 - acc: 0.9889 - val_loss: 3.5871 - val_acc: 0.6368\n",
            "Epoch 94/150\n",
            "35000/35000 [==============================] - 54s 2ms/step - loss: 0.0538 - acc: 0.9842 - val_loss: 3.7380 - val_acc: 0.6311\n",
            "Epoch 95/150\n",
            "35000/35000 [==============================] - 54s 2ms/step - loss: 0.0628 - acc: 0.9823 - val_loss: 3.6215 - val_acc: 0.6307\n",
            "Epoch 96/150\n",
            "35000/35000 [==============================] - 54s 2ms/step - loss: 0.0693 - acc: 0.9799 - val_loss: 3.5115 - val_acc: 0.6434\n",
            "Epoch 97/150\n",
            "35000/35000 [==============================] - 54s 2ms/step - loss: 0.0685 - acc: 0.9811 - val_loss: 3.5537 - val_acc: 0.6452\n",
            "Epoch 98/150\n",
            "35000/35000 [==============================] - 53s 2ms/step - loss: 0.0234 - acc: 0.9926 - val_loss: 3.6194 - val_acc: 0.6433\n",
            "Epoch 99/150\n",
            "35000/35000 [==============================] - 53s 2ms/step - loss: 0.0350 - acc: 0.9896 - val_loss: 3.5214 - val_acc: 0.6377\n",
            "Epoch 100/150\n",
            "35000/35000 [==============================] - 53s 2ms/step - loss: 0.0441 - acc: 0.9868 - val_loss: 3.5601 - val_acc: 0.6397\n",
            "Epoch 101/150\n",
            "35000/35000 [==============================] - 53s 2ms/step - loss: 0.0648 - acc: 0.9816 - val_loss: 3.5279 - val_acc: 0.6431\n",
            "Epoch 102/150\n",
            "35000/35000 [==============================] - 53s 2ms/step - loss: 0.0363 - acc: 0.9892 - val_loss: 3.5734 - val_acc: 0.6387\n",
            "Epoch 103/150\n",
            "35000/35000 [==============================] - 53s 2ms/step - loss: 0.0244 - acc: 0.9922 - val_loss: 3.5906 - val_acc: 0.6436\n",
            "Epoch 104/150\n",
            "35000/35000 [==============================] - 53s 2ms/step - loss: 0.0313 - acc: 0.9910 - val_loss: 3.7056 - val_acc: 0.6359\n",
            "Epoch 105/150\n",
            "35000/35000 [==============================] - 53s 2ms/step - loss: 0.0342 - acc: 0.9898 - val_loss: 3.6659 - val_acc: 0.6427\n",
            "Epoch 106/150\n",
            "35000/35000 [==============================] - 53s 2ms/step - loss: 0.0334 - acc: 0.9899 - val_loss: 3.6717 - val_acc: 0.6473\n",
            "Epoch 107/150\n",
            "35000/35000 [==============================] - 53s 2ms/step - loss: 0.0494 - acc: 0.9861 - val_loss: 3.6483 - val_acc: 0.6377\n",
            "Epoch 108/150\n",
            "35000/35000 [==============================] - 53s 2ms/step - loss: 0.0476 - acc: 0.9872 - val_loss: 3.7043 - val_acc: 0.6413\n",
            "Epoch 109/150\n",
            "35000/35000 [==============================] - 53s 2ms/step - loss: 0.0460 - acc: 0.9875 - val_loss: 3.6660 - val_acc: 0.6377\n",
            "Epoch 110/150\n",
            "35000/35000 [==============================] - 53s 2ms/step - loss: 0.0371 - acc: 0.9885 - val_loss: 3.7052 - val_acc: 0.6436\n",
            "Epoch 111/150\n",
            "35000/35000 [==============================] - 53s 2ms/step - loss: 0.0318 - acc: 0.9905 - val_loss: 3.5927 - val_acc: 0.6413\n",
            "Epoch 112/150\n",
            "35000/35000 [==============================] - 54s 2ms/step - loss: 0.0401 - acc: 0.9887 - val_loss: 3.6962 - val_acc: 0.6351\n",
            "Epoch 113/150\n",
            "35000/35000 [==============================] - 54s 2ms/step - loss: 0.0554 - acc: 0.9847 - val_loss: 3.7964 - val_acc: 0.6315\n",
            "Epoch 114/150\n",
            "35000/35000 [==============================] - 54s 2ms/step - loss: 0.0658 - acc: 0.9822 - val_loss: 3.6222 - val_acc: 0.6381\n",
            "Epoch 115/150\n",
            "35000/35000 [==============================] - 54s 2ms/step - loss: 0.0531 - acc: 0.9852 - val_loss: 3.7429 - val_acc: 0.6349\n",
            "Epoch 116/150\n",
            "35000/35000 [==============================] - 54s 2ms/step - loss: 0.0498 - acc: 0.9857 - val_loss: 3.7133 - val_acc: 0.6286\n",
            "Epoch 117/150\n",
            "35000/35000 [==============================] - 54s 2ms/step - loss: 0.0415 - acc: 0.9881 - val_loss: 3.7308 - val_acc: 0.6389\n",
            "Epoch 118/150\n",
            "35000/35000 [==============================] - 54s 2ms/step - loss: 0.0488 - acc: 0.9866 - val_loss: 3.8216 - val_acc: 0.6331\n",
            "Epoch 119/150\n",
            "35000/35000 [==============================] - 54s 2ms/step - loss: 0.0367 - acc: 0.9890 - val_loss: 3.7063 - val_acc: 0.6381\n",
            "Epoch 120/150\n",
            "35000/35000 [==============================] - 54s 2ms/step - loss: 0.0306 - acc: 0.9914 - val_loss: 3.7129 - val_acc: 0.6395\n",
            "Epoch 121/150\n",
            "35000/35000 [==============================] - 54s 2ms/step - loss: 0.0284 - acc: 0.9918 - val_loss: 3.6614 - val_acc: 0.6413\n",
            "Epoch 122/150\n",
            "35000/35000 [==============================] - 53s 2ms/step - loss: 0.0352 - acc: 0.9900 - val_loss: 3.8854 - val_acc: 0.6305\n",
            "Epoch 123/150\n",
            "35000/35000 [==============================] - 53s 2ms/step - loss: 0.0471 - acc: 0.9869 - val_loss: 3.8815 - val_acc: 0.6259\n",
            "Epoch 124/150\n",
            "35000/35000 [==============================] - 53s 2ms/step - loss: 0.0491 - acc: 0.9862 - val_loss: 3.7270 - val_acc: 0.6373\n",
            "Epoch 125/150\n",
            "35000/35000 [==============================] - 53s 2ms/step - loss: 0.0496 - acc: 0.9859 - val_loss: 3.7456 - val_acc: 0.6403\n",
            "Epoch 126/150\n",
            "35000/35000 [==============================] - 53s 2ms/step - loss: 0.0566 - acc: 0.9850 - val_loss: 3.8406 - val_acc: 0.6353\n",
            "Epoch 127/150\n",
            "35000/35000 [==============================] - 53s 2ms/step - loss: 0.0396 - acc: 0.9893 - val_loss: 3.7204 - val_acc: 0.6439\n",
            "Epoch 128/150\n",
            "35000/35000 [==============================] - 53s 2ms/step - loss: 0.0261 - acc: 0.9919 - val_loss: 3.8096 - val_acc: 0.6371\n",
            "Epoch 129/150\n",
            "35000/35000 [==============================] - 53s 2ms/step - loss: 0.0553 - acc: 0.9866 - val_loss: 3.8161 - val_acc: 0.6345\n",
            "Epoch 130/150\n",
            "35000/35000 [==============================] - 53s 2ms/step - loss: 0.0522 - acc: 0.9865 - val_loss: 3.7291 - val_acc: 0.6420\n",
            "Epoch 131/150\n",
            "35000/35000 [==============================] - 53s 2ms/step - loss: 0.0486 - acc: 0.9866 - val_loss: 3.7203 - val_acc: 0.6448\n",
            "Epoch 132/150\n",
            "35000/35000 [==============================] - 53s 2ms/step - loss: 0.0411 - acc: 0.9881 - val_loss: 3.7444 - val_acc: 0.6430\n",
            "Epoch 133/150\n",
            "35000/35000 [==============================] - 53s 2ms/step - loss: 0.0484 - acc: 0.9869 - val_loss: 3.8668 - val_acc: 0.6362\n",
            "Epoch 134/150\n",
            "35000/35000 [==============================] - 53s 2ms/step - loss: 0.0392 - acc: 0.9895 - val_loss: 3.7862 - val_acc: 0.6390\n",
            "Epoch 135/150\n",
            "35000/35000 [==============================] - 54s 2ms/step - loss: 0.0236 - acc: 0.9935 - val_loss: 3.8321 - val_acc: 0.6437\n",
            "Epoch 136/150\n",
            "35000/35000 [==============================] - 54s 2ms/step - loss: 0.0260 - acc: 0.9930 - val_loss: 3.7392 - val_acc: 0.6461\n",
            "Epoch 137/150\n",
            "35000/35000 [==============================] - 53s 2ms/step - loss: 0.0294 - acc: 0.9916 - val_loss: 3.8345 - val_acc: 0.6424\n",
            "Epoch 138/150\n",
            "35000/35000 [==============================] - 53s 2ms/step - loss: 0.0348 - acc: 0.9905 - val_loss: 4.1778 - val_acc: 0.6177\n",
            "Epoch 139/150\n",
            "35000/35000 [==============================] - 53s 2ms/step - loss: 0.0621 - acc: 0.9843 - val_loss: 3.9234 - val_acc: 0.6336\n",
            "Epoch 140/150\n",
            "35000/35000 [==============================] - 54s 2ms/step - loss: 0.0781 - acc: 0.9800 - val_loss: 3.9056 - val_acc: 0.6363\n",
            "Epoch 141/150\n",
            "35000/35000 [==============================] - 54s 2ms/step - loss: 0.0414 - acc: 0.9886 - val_loss: 3.9410 - val_acc: 0.6379\n",
            "Epoch 142/150\n",
            "35000/35000 [==============================] - 54s 2ms/step - loss: 0.0325 - acc: 0.9908 - val_loss: 3.9480 - val_acc: 0.6366\n",
            "Epoch 143/150\n",
            "35000/35000 [==============================] - 54s 2ms/step - loss: 0.0166 - acc: 0.9946 - val_loss: 3.8843 - val_acc: 0.6447\n",
            "Epoch 144/150\n",
            "35000/35000 [==============================] - 54s 2ms/step - loss: 0.0103 - acc: 0.9965 - val_loss: 3.9145 - val_acc: 0.6385\n",
            "Epoch 145/150\n",
            "35000/35000 [==============================] - 54s 2ms/step - loss: 0.0257 - acc: 0.9925 - val_loss: 4.0565 - val_acc: 0.6228\n",
            "Epoch 146/150\n",
            "35000/35000 [==============================] - 54s 2ms/step - loss: 0.0680 - acc: 0.9824 - val_loss: 4.0412 - val_acc: 0.6281\n",
            "Epoch 147/150\n",
            "35000/35000 [==============================] - 54s 2ms/step - loss: 0.0893 - acc: 0.9781 - val_loss: 3.9067 - val_acc: 0.6261\n",
            "Epoch 148/150\n",
            "35000/35000 [==============================] - 54s 2ms/step - loss: 0.0516 - acc: 0.9862 - val_loss: 3.9249 - val_acc: 0.6348\n",
            "Epoch 149/150\n",
            "35000/35000 [==============================] - 54s 2ms/step - loss: 0.0425 - acc: 0.9882 - val_loss: 3.9248 - val_acc: 0.6368\n",
            "Epoch 150/150\n",
            "35000/35000 [==============================] - 54s 2ms/step - loss: 0.0452 - acc: 0.9887 - val_loss: 3.9357 - val_acc: 0.6377\n"
          ],
          "name": "stdout"
        }
      ]
    },
    {
      "cell_type": "code",
      "metadata": {
        "id": "QCR2bEceKl7i",
        "colab_type": "code",
        "outputId": "bdd975d6-b1eb-450f-f42e-cc80089f73db",
        "colab": {
          "base_uri": "https://localhost:8080/",
          "height": 407
        }
      },
      "source": [
        "model.summary()"
      ],
      "execution_count": 0,
      "outputs": [
        {
          "output_type": "stream",
          "text": [
            "Model: \"sequential_6\"\n",
            "_________________________________________________________________\n",
            "Layer (type)                 Output Shape              Param #   \n",
            "=================================================================\n",
            "conv2d_12 (Conv2D)           (None, 28, 28, 32)        2432      \n",
            "_________________________________________________________________\n",
            "max_pooling2d_10 (MaxPooling (None, 14, 14, 32)        0         \n",
            "_________________________________________________________________\n",
            "conv2d_13 (Conv2D)           (None, 10, 10, 32)        25632     \n",
            "_________________________________________________________________\n",
            "conv2d_14 (Conv2D)           (None, 6, 6, 32)          25632     \n",
            "_________________________________________________________________\n",
            "max_pooling2d_11 (MaxPooling (None, 3, 3, 32)          0         \n",
            "_________________________________________________________________\n",
            "flatten_4 (Flatten)          (None, 288)               0         \n",
            "_________________________________________________________________\n",
            "dense_7 (Dense)              (None, 1000)              289000    \n",
            "_________________________________________________________________\n",
            "dense_8 (Dense)              (None, 10)                10010     \n",
            "=================================================================\n",
            "Total params: 352,706\n",
            "Trainable params: 352,706\n",
            "Non-trainable params: 0\n",
            "_________________________________________________________________\n"
          ],
          "name": "stdout"
        }
      ]
    },
    {
      "cell_type": "markdown",
      "metadata": {
        "id": "UT9-Z72kQQMx",
        "colab_type": "text"
      },
      "source": [
        "# Model Başarısı Ölçme ve Görselleştirme"
      ]
    },
    {
      "cell_type": "code",
      "metadata": {
        "id": "z-2ulpxOFtoo",
        "colab_type": "code",
        "outputId": "e52a70a1-771c-4260-a192-2be922122e64",
        "colab": {
          "base_uri": "https://localhost:8080/",
          "height": 50
        }
      },
      "source": [
        "model.evaluate(x_test,y_test_ohe)[1] "
      ],
      "execution_count": 0,
      "outputs": [
        {
          "output_type": "stream",
          "text": [
            "10000/10000 [==============================] - 5s 479us/step\n"
          ],
          "name": "stdout"
        },
        {
          "output_type": "execute_result",
          "data": {
            "text/plain": [
              "0.6419"
            ]
          },
          "metadata": {
            "tags": []
          },
          "execution_count": 75
        }
      ]
    },
    {
      "cell_type": "code",
      "metadata": {
        "id": "rQ446X3MiAF3",
        "colab_type": "code",
        "outputId": "8f3130eb-ee02-48d1-c6e9-2b07bc5ee0a9",
        "colab": {
          "base_uri": "https://localhost:8080/",
          "height": 295
        }
      },
      "source": [
        "plt.plot(learnedmodel.history['acc'])\n",
        "plt.plot(learnedmodel.history['val_acc'])\n",
        "plt.title('Model Başarısı')\n",
        "plt.ylabel('Başarı')\n",
        "plt.xlabel('Epoch')\n",
        "plt.legend(['Train','Val'],loc='center left')\n",
        "plt.show()"
      ],
      "execution_count": 0,
      "outputs": [
        {
          "output_type": "display_data",
          "data": {
            "image/png": "[encoded data removed]",
            "text/plain": [
              "<Figure size 432x288 with 1 Axes>"
            ]
          },
          "metadata": {
            "tags": []
          }
        }
      ]
    },
    {
      "cell_type": "code",
      "metadata": {
        "id": "wfj1_VfCi9Xt",
        "colab_type": "code",
        "outputId": "357d24d5-5fae-41ed-f9f7-34511fda5fdc",
        "colab": {
          "base_uri": "https://localhost:8080/",
          "height": 295
        }
      },
      "source": [
        "plt.plot(learnedmodel.history['loss'])\n",
        "plt.plot(learnedmodel.history['val_loss'])\n",
        "plt.title('Model Loss Değeri')\n",
        "plt.ylabel('Loss')\n",
        "plt.xlabel('Epoch')\n",
        "plt.legend(['Train','Val'],loc='upper left')\n",
        "plt.show()"
      ],
      "execution_count": 0,
      "outputs": [
        {
          "output_type": "display_data",
          "data": {
            "image/png": "[encoded data removed]",
            "text/plain": [
              "<Figure size 432x288 with 1 Axes>"
            ]
          },
          "metadata": {
            "tags": []
          }
        }
      ]
    },
    {
      "cell_type": "code",
      "metadata": {
        "id": "kBxBm9f6jGRi",
        "colab_type": "code",
        "colab": {}
      },
      "source": [
        "def İmageClassifiar(jpgname='cat.jpg'):\n",
        "#insert to image\n",
        "  from google.colab import files\n",
        "  upload=files.upload()\n",
        "#show image\n",
        "  image=plt.imread(jpgname)\n",
        "  img=plt.imshow(image)\n",
        " #resize image \n",
        "  # Boyut yenileme gerekiyor\n",
        "  from skimage.transform import resize\n",
        "  reimage=resize(image,(32,32,3))\n",
        "  img=plt.imshow(reimage)\n",
        "#show probablity\n",
        "  # Olasılıkları gösterme\n",
        "  import numpy as np\n",
        "  ols=model.predict(np.array([reimage,]))\n",
        "  sınıflar=['Uçak','Otomobil','Kuş','Kedi','Geyik','Köpek','Kurbağa','At','Gemi','Kamyon']\n",
        "  index=np.argsort(ols[0,:])\n",
        "  print(\"\\n\\n\")\n",
        "\n",
        "  for i in range(9,0,-1):\n",
        "    print(round(ols[0,index[i]],5),\" Olasılık ile sınıfı:\",sınıflar[index[i]])\n"
      ],
      "execution_count": 0,
      "outputs": []
    },
    {
      "cell_type": "code",
      "metadata": {
        "id": "zp_h5eAkqAbq",
        "colab_type": "code",
        "outputId": "1b3da154-6a05-4436-93f2-17b06d30d4ba",
        "colab": {
          "resources": {
            "http://localhost:8080/nbextensions/google.colab/files.js": {
              "data": "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",
              "ok": true,
              "headers": [
                [
                  "content-type",
                  "application/javascript"
                ]
              ],
              "status": 200,
              "status_text": ""
            }
          },
          "base_uri": "https://localhost:8080/",
          "height": 527
        }
      },
      "source": [
        "İmageClassifiar()"
      ],
      "execution_count": 0,
      "outputs": [
        {
          "output_type": "display_data",
          "data": {
            "text/html": [
              "\n",
              "     <input type=\"file\" id=\"files-cddc793f-5b21-415a-a83c-83d8f6ce5414\" name=\"files[]\" multiple disabled />\n",
              "     <output id=\"result-cddc793f-5b21-415a-a83c-83d8f6ce5414\">\n",
              "      Upload widget is only available when the cell has been executed in the\n",
              "      current browser session. Please rerun this cell to enable.\n",
              "      </output>\n",
              "      <script src=\"/nbextensions/google.colab/files.js\"></script> "
            ],
            "text/plain": [
              "<IPython.core.display.HTML object>"
            ]
          },
          "metadata": {
            "tags": []
          }
        },
        {
          "output_type": "stream",
          "text": [
            "Saving cat.jpg to cat (10).jpg\n",
            "\n",
            "\n",
            "\n",
            "0.99997  Olasılık ile sınıfı: Köpek\n",
            "3e-05  Olasılık ile sınıfı: Kedi\n",
            "0.0  Olasılık ile sınıfı: Geyik\n",
            "0.0  Olasılık ile sınıfı: At\n",
            "0.0  Olasılık ile sınıfı: Kuş\n",
            "0.0  Olasılık ile sınıfı: Uçak\n",
            "0.0  Olasılık ile sınıfı: Kurbağa\n",
            "0.0  Olasılık ile sınıfı: Kamyon\n",
            "0.0  Olasılık ile sınıfı: Gemi\n"
          ],
          "name": "stdout"
        },
        {
          "output_type": "display_data",
          "data": {
            "image/png": "[encoded data removed]",
            "text/plain": [
              "<Figure size 432x288 with 1 Axes>"
            ]
          },
          "metadata": {
            "tags": []
          }
        }
      ]
    },
    {
      "cell_type": "markdown",
      "metadata": {
        "id": "dhHbzN84s_j3",
        "colab_type": "text"
      },
      "source": [
        "# Eğitilen Modelin Kayıt Edilmesi"
      ]
    },
    {
      "cell_type": "code",
      "metadata": {
        "id": "Km4pOkZhqB6A",
        "colab_type": "code",
        "colab": {}
      },
      "source": [
        "model.save('model_1.h5')"
      ],
      "execution_count": 0,
      "outputs": []
    },
    {
      "cell_type": "markdown",
      "metadata": {
        "id": "u8-37eOrtLbA",
        "colab_type": "text"
      },
      "source": [
        "# Önceden Hazırlanan Modelin Yeniden Kullanılması"
      ]
    },
    {
      "cell_type": "code",
      "metadata": {
        "id": "CwA4Iz9GtQbX",
        "colab_type": "code",
        "colab": {}
      },
      "source": [
        "from keras.models import load_model\n",
        "model=load_model('model_1.h5')"
      ],
      "execution_count": 0,
      "outputs": []
    },
    {
      "cell_type": "code",
      "metadata": {
        "id": "03BHxl-Ntc1S",
        "colab_type": "code",
        "colab": {}
      },
      "source": [
        ""
      ],
      "execution_count": 0,
      "outputs": []
    }
  ]
}