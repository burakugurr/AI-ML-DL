{
  "nbformat": 4,
  "nbformat_minor": 0,
  "metadata": {
    "colab": {
      "name": "clusterMetrics.ipynb",
      "provenance": [],
      "authorship_tag": "ABX9TyO3tH0fbEL36ZtblD5Pxpvw",
      "include_colab_link": true
    },
    "kernelspec": {
      "name": "python3",
      "display_name": "Python 3"
    },
    "language_info": {
      "name": "python"
    }
  },
  "cells": [
    {
      "cell_type": "markdown",
      "metadata": {
        "id": "view-in-github",
        "colab_type": "text"
      },
      "source": [
        "<a href=\"https://colab.research.google.com/github/burakugurr/AI-ML-DL/blob/master/clusterMetrics.ipynb\" target=\"_parent\"><img src=\"https://colab.research.google.com/assets/colab-badge.svg\" alt=\"Open In Colab\"/></a>"
      ]
    },
    {
      "cell_type": "code",
      "metadata": {
        "id": "FZKGbw23UN2f"
      },
      "source": [
        "import matplotlib.pyplot as plt\n",
        "from sklearn.datasets import make_blobs\n",
        "from sklearn.cluster import KMeans\n",
        "import pandas as pd \n",
        "from sklearn import metrics\n",
        "from sklearn.metrics import silhouette_score\n",
        "from sklearn.preprocessing import StandardScaler\n",
        "import numpy as np\n"
      ],
      "execution_count": 118,
      "outputs": []
    },
    {
      "cell_type": "code",
      "metadata": {
        "id": "thea2RSxUijV"
      },
      "source": [
        "features, true_labels = make_blobs(\n",
        "    n_samples=2000,\n",
        "    centers=3,\n",
        "    cluster_std=1.55,\n",
        "    random_state=42\n",
        ")\n",
        "datas = {\n",
        "    'X1':features[:,0],\n",
        "    'X2':features[:,1],\n",
        "    'label':true_labels\n",
        "}"
      ],
      "execution_count": 85,
      "outputs": []
    },
    {
      "cell_type": "code",
      "metadata": {
        "colab": {
          "base_uri": "https://localhost:8080/",
          "height": 343
        },
        "id": "Q1The66UU43B",
        "outputId": "226f9ee8-1c40-4bce-f547-a4950647cced"
      },
      "source": [
        "data = pd.DataFrame(data=datas,columns=['X1','X2','label'])\n",
        "data.head(10)"
      ],
      "execution_count": 122,
      "outputs": [
        {
          "output_type": "execute_result",
          "data": {
            "text/html": [
              "<div>\n",
              "<style scoped>\n",
              "    .dataframe tbody tr th:only-of-type {\n",
              "        vertical-align: middle;\n",
              "    }\n",
              "\n",
              "    .dataframe tbody tr th {\n",
              "        vertical-align: top;\n",
              "    }\n",
              "\n",
              "    .dataframe thead th {\n",
              "        text-align: right;\n",
              "    }\n",
              "</style>\n",
              "<table border=\"1\" class=\"dataframe\">\n",
              "  <thead>\n",
              "    <tr style=\"text-align: right;\">\n",
              "      <th></th>\n",
              "      <th>X1</th>\n",
              "      <th>X2</th>\n",
              "      <th>label</th>\n",
              "    </tr>\n",
              "  </thead>\n",
              "  <tbody>\n",
              "    <tr>\n",
              "      <th>0</th>\n",
              "      <td>4.440646</td>\n",
              "      <td>-0.943696</td>\n",
              "      <td>1</td>\n",
              "    </tr>\n",
              "    <tr>\n",
              "      <th>1</th>\n",
              "      <td>5.479146</td>\n",
              "      <td>3.149860</td>\n",
              "      <td>1</td>\n",
              "    </tr>\n",
              "    <tr>\n",
              "      <th>2</th>\n",
              "      <td>2.545714</td>\n",
              "      <td>-0.076640</td>\n",
              "      <td>1</td>\n",
              "    </tr>\n",
              "    <tr>\n",
              "      <th>3</th>\n",
              "      <td>-6.963180</td>\n",
              "      <td>-8.402680</td>\n",
              "      <td>2</td>\n",
              "    </tr>\n",
              "    <tr>\n",
              "      <th>4</th>\n",
              "      <td>-3.792720</td>\n",
              "      <td>-8.169805</td>\n",
              "      <td>2</td>\n",
              "    </tr>\n",
              "    <tr>\n",
              "      <th>5</th>\n",
              "      <td>-5.119416</td>\n",
              "      <td>-8.594865</td>\n",
              "      <td>2</td>\n",
              "    </tr>\n",
              "    <tr>\n",
              "      <th>6</th>\n",
              "      <td>-9.000516</td>\n",
              "      <td>-3.799832</td>\n",
              "      <td>2</td>\n",
              "    </tr>\n",
              "    <tr>\n",
              "      <th>7</th>\n",
              "      <td>3.905428</td>\n",
              "      <td>1.950769</td>\n",
              "      <td>1</td>\n",
              "    </tr>\n",
              "    <tr>\n",
              "      <th>8</th>\n",
              "      <td>-3.794140</td>\n",
              "      <td>8.146006</td>\n",
              "      <td>0</td>\n",
              "    </tr>\n",
              "    <tr>\n",
              "      <th>9</th>\n",
              "      <td>-5.051053</td>\n",
              "      <td>-6.579243</td>\n",
              "      <td>2</td>\n",
              "    </tr>\n",
              "  </tbody>\n",
              "</table>\n",
              "</div>"
            ],
            "text/plain": [
              "         X1        X2  label\n",
              "0  4.440646 -0.943696      1\n",
              "1  5.479146  3.149860      1\n",
              "2  2.545714 -0.076640      1\n",
              "3 -6.963180 -8.402680      2\n",
              "4 -3.792720 -8.169805      2\n",
              "5 -5.119416 -8.594865      2\n",
              "6 -9.000516 -3.799832      2\n",
              "7  3.905428  1.950769      1\n",
              "8 -3.794140  8.146006      0\n",
              "9 -5.051053 -6.579243      2"
            ]
          },
          "metadata": {
            "tags": []
          },
          "execution_count": 122
        }
      ]
    },
    {
      "cell_type": "code",
      "metadata": {
        "colab": {
          "base_uri": "https://localhost:8080/",
          "height": 265
        },
        "id": "gETeONR1cPWu",
        "outputId": "494e2493-0f6d-4448-9fad-7d4c75877701"
      },
      "source": [
        "plt.scatter(data.iloc[:, 0], data.iloc[:, 1],c=['#9467bd'],marker='X');"
      ],
      "execution_count": 87,
      "outputs": [
        {
          "output_type": "display_data",
          "data": {
            "image/png": "[encoded data removed]",
            "text/plain": [
              "<Figure size 432x288 with 1 Axes>"
            ]
          },
          "metadata": {
            "tags": [],
            "needs_background": "light"
          }
        }
      ]
    },
    {
      "cell_type": "markdown",
      "metadata": {
        "id": "TfV-cZpKit7a"
      },
      "source": [
        "* Verileri kendimiz yarattığımız için harici kaynaklar sınıfında bulunan değerlendirme metriklerine bakmamız gerekmektedir."
      ]
    },
    {
      "cell_type": "code",
      "metadata": {
        "id": "aMWvz7GpU6QP"
      },
      "source": [
        "scaler = StandardScaler()\n",
        "scaled_features = scaler.fit_transform(data.iloc[:,:2])"
      ],
      "execution_count": 88,
      "outputs": []
    },
    {
      "cell_type": "markdown",
      "metadata": {
        "id": "ItRdrYlLjorG"
      },
      "source": [
        "## 1-KMeans"
      ]
    },
    {
      "cell_type": "code",
      "metadata": {
        "id": "twxx1yENU7qq"
      },
      "source": [
        "kmeans = KMeans(\n",
        "    init=\"k-means++\",\n",
        "    n_clusters=3,\n",
        "    n_init=10,\n",
        "    max_iter=5000,\n",
        "    random_state=42\n",
        ").fit(scaled_features)\n",
        "y_kmeans = kmeans.predict(scaled_features)"
      ],
      "execution_count": 95,
      "outputs": []
    },
    {
      "cell_type": "code",
      "metadata": {
        "colab": {
          "base_uri": "https://localhost:8080/",
          "height": 265
        },
        "id": "UM7vKWuMW2ie",
        "outputId": "427be717-cecb-4930-e7b4-006703dfcd2a"
      },
      "source": [
        "plt.scatter(data.iloc[:, 0], data.iloc[:, 1], c=y_kmeans, cmap='viridis')\n",
        "\n",
        "centers = kmeans.cluster_centers_\n",
        "plt.scatter(centers[:, 0], centers[:, 1], c='black', s=200, alpha=0.5);"
      ],
      "execution_count": 96,
      "outputs": [
        {
          "output_type": "display_data",
          "data": {
            "image/png": "[encoded data removed]",
            "text/plain": [
              "<Figure size 432x288 with 1 Axes>"
            ]
          },
          "metadata": {
            "tags": [],
            "needs_background": "light"
          }
        }
      ]
    },
    {
      "cell_type": "code",
      "metadata": {
        "colab": {
          "base_uri": "https://localhost:8080/"
        },
        "id": "cnxHc0vuevmL",
        "outputId": "dc213139-c678-4564-8f80-e6754acfe1d2"
      },
      "source": [
        "kmeans_score = kmeans.score(scaled_features,y_kmeans)\n",
        "kmeans_score"
      ],
      "execution_count": 97,
      "outputs": [
        {
          "output_type": "execute_result",
          "data": {
            "text/plain": [
              "-295.6866707456031"
            ]
          },
          "metadata": {
            "tags": []
          },
          "execution_count": 97
        }
      ]
    },
    {
      "cell_type": "markdown",
      "metadata": {
        "id": "IIrv-JTInyrN"
      },
      "source": [
        "### Mutual Information based Score"
      ]
    },
    {
      "cell_type": "code",
      "metadata": {
        "colab": {
          "base_uri": "https://localhost:8080/"
        },
        "id": "5_ItXCrhn0sn",
        "outputId": "81b228a6-f009-49f5-f2c1-fb8712a93f9f"
      },
      "source": [
        "metrics.adjusted_mutual_info_score(true_labels, y_kmeans)   #AMI"
      ],
      "execution_count": 100,
      "outputs": [
        {
          "output_type": "execute_result",
          "data": {
            "text/plain": [
              "0.9965822161626248"
            ]
          },
          "metadata": {
            "tags": []
          },
          "execution_count": 100
        }
      ]
    },
    {
      "cell_type": "code",
      "metadata": {
        "colab": {
          "base_uri": "https://localhost:8080/"
        },
        "id": "9nwgpyPZn-f-",
        "outputId": "33e08361-0c19-4374-aa21-b569b3f5d5cb"
      },
      "source": [
        "metrics.normalized_mutual_info_score(true_labels, y_kmeans)   #NMI"
      ],
      "execution_count": 102,
      "outputs": [
        {
          "output_type": "execute_result",
          "data": {
            "text/plain": [
              "0.9965853313238792"
            ]
          },
          "metadata": {
            "tags": []
          },
          "execution_count": 102
        }
      ]
    },
    {
      "cell_type": "markdown",
      "metadata": {
        "id": "VEmushocrdKe"
      },
      "source": [
        "### Rand Index"
      ]
    },
    {
      "cell_type": "code",
      "metadata": {
        "colab": {
          "base_uri": "https://localhost:8080/"
        },
        "id": "iE6S9-sFoGSy",
        "outputId": "11edc11b-ca5b-4779-bf56-a97b086b4114"
      },
      "source": [
        "metrics.cluster.adjusted_rand_score(true_labels, y_kmeans)   "
      ],
      "execution_count": 103,
      "outputs": [
        {
          "output_type": "execute_result",
          "data": {
            "text/plain": [
              "0.998498874063205"
            ]
          },
          "metadata": {
            "tags": []
          },
          "execution_count": 103
        }
      ]
    },
    {
      "cell_type": "markdown",
      "metadata": {
        "id": "r0e0O6pYsSu3"
      },
      "source": [
        "### Fowlkes-Mallows Score"
      ]
    },
    {
      "cell_type": "code",
      "metadata": {
        "colab": {
          "base_uri": "https://localhost:8080/"
        },
        "id": "KdS8o1mKrkbT",
        "outputId": "23ef348b-fdb9-4ac0-9d47-b06eac4cd65d"
      },
      "source": [
        "metrics.cluster.fowlkes_mallows_score(true_labels, y_kmeans)   "
      ],
      "execution_count": 105,
      "outputs": [
        {
          "output_type": "execute_result",
          "data": {
            "text/plain": [
              "0.9989987493759085"
            ]
          },
          "metadata": {
            "tags": []
          },
          "execution_count": 105
        }
      ]
    },
    {
      "cell_type": "markdown",
      "metadata": {
        "id": "eMqZ21Yvsdox"
      },
      "source": [
        "### Precision"
      ]
    },
    {
      "cell_type": "code",
      "metadata": {
        "colab": {
          "base_uri": "https://localhost:8080/"
        },
        "id": "jvNif1-MsXhv",
        "outputId": "37d77123-60dd-4254-dad1-207db681be7f"
      },
      "source": [
        "metrics.precision_score(true_labels, y_kmeans,pos_label='positive',average='micro')"
      ],
      "execution_count": 114,
      "outputs": [
        {
          "output_type": "stream",
          "text": [
            "/usr/local/lib/python3.7/dist-packages/sklearn/metrics/_classification.py:1321: UserWarning: Note that pos_label (set to 'positive') is ignored when average != 'binary' (got 'micro'). You may use labels=[pos_label] to specify a single positive class.\n",
            "  % (pos_label, average), UserWarning)\n"
          ],
          "name": "stderr"
        },
        {
          "output_type": "execute_result",
          "data": {
            "text/plain": [
              "0.0005"
            ]
          },
          "metadata": {
            "tags": []
          },
          "execution_count": 114
        }
      ]
    },
    {
      "cell_type": "markdown",
      "metadata": {
        "id": "vSzZYiaAuucV"
      },
      "source": [
        "### Recall"
      ]
    },
    {
      "cell_type": "code",
      "metadata": {
        "colab": {
          "base_uri": "https://localhost:8080/"
        },
        "id": "x2FlfP6kuFKu",
        "outputId": "95c240a3-495e-4ad3-d26a-bc707504a191"
      },
      "source": [
        "metrics.recall_score(y_kmeans,true_labels ,pos_label='positive',average='micro')"
      ],
      "execution_count": 116,
      "outputs": [
        {
          "output_type": "stream",
          "text": [
            "/usr/local/lib/python3.7/dist-packages/sklearn/metrics/_classification.py:1321: UserWarning: Note that pos_label (set to 'positive') is ignored when average != 'binary' (got 'micro'). You may use labels=[pos_label] to specify a single positive class.\n",
            "  % (pos_label, average), UserWarning)\n"
          ],
          "name": "stderr"
        },
        {
          "output_type": "execute_result",
          "data": {
            "text/plain": [
              "0.0005"
            ]
          },
          "metadata": {
            "tags": []
          },
          "execution_count": 116
        }
      ]
    },
    {
      "cell_type": "markdown",
      "metadata": {
        "id": "ZEQE7AFSwJ56"
      },
      "source": [
        "### Purity"
      ]
    },
    {
      "cell_type": "code",
      "metadata": {
        "colab": {
          "base_uri": "https://localhost:8080/"
        },
        "id": "k4z_D--zuxsX",
        "outputId": "91502859-a246-4d4a-880a-821b587c3797"
      },
      "source": [
        "def purity_score(y_true, y_pred):\n",
        "    contingency_matrix = metrics.cluster.contingency_matrix(y_true, y_pred)\n",
        "    return np.sum(np.amax(contingency_matrix, axis=0)) / np.sum(contingency_matrix) \n",
        "\n",
        "purity_score(true_labels,y_kmeans)  "
      ],
      "execution_count": 119,
      "outputs": [
        {
          "output_type": "execute_result",
          "data": {
            "text/plain": [
              "0.9995"
            ]
          },
          "metadata": {
            "tags": []
          },
          "execution_count": 119
        }
      ]
    },
    {
      "cell_type": "markdown",
      "metadata": {
        "id": "vmaBwtFx2UJK"
      },
      "source": [
        "### Jaccard similarity coefficient score"
      ]
    },
    {
      "cell_type": "code",
      "metadata": {
        "colab": {
          "base_uri": "https://localhost:8080/"
        },
        "id": "j3d2JLd31Ydu",
        "outputId": "a385eba7-6f4f-47fa-9eb2-695585e491b2"
      },
      "source": [
        "metrics.jaccard_score(true_labels,y_kmeans,pos_label='positive',average='micro')"
      ],
      "execution_count": 124,
      "outputs": [
        {
          "output_type": "stream",
          "text": [
            "/usr/local/lib/python3.7/dist-packages/sklearn/metrics/_classification.py:1321: UserWarning: Note that pos_label (set to 'positive') is ignored when average != 'binary' (got 'micro'). You may use labels=[pos_label] to specify a single positive class.\n",
            "  % (pos_label, average), UserWarning)\n"
          ],
          "name": "stderr"
        },
        {
          "output_type": "execute_result",
          "data": {
            "text/plain": [
              "0.00025006251562890725"
            ]
          },
          "metadata": {
            "tags": []
          },
          "execution_count": 124
        }
      ]
    },
    {
      "cell_type": "code",
      "metadata": {
        "id": "Fx1MWruF2Zza"
      },
      "source": [
        ""
      ],
      "execution_count": null,
      "outputs": []
    }
  ]
}